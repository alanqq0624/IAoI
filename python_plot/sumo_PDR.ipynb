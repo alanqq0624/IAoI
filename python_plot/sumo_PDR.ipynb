{
 "cells": [
  {
   "cell_type": "code",
   "execution_count": 38,
   "metadata": {},
   "outputs": [],
   "source": [
    "import numpy as np \n",
    "import pandas as pd \n",
    "import matplotlib.pyplot as plt \n",
    " \n",
    "def parse_if_number(s): \n",
    "    try: return float(s) \n",
    "    except: return True if s==\"true\" else False if s==\"false\" else s if s else None \n",
    " \n",
    "def parse_ndarray(s): \n",
    "    return np.fromstring(s, sep=' ') if s else None "
   ]
  },
  {
   "cell_type": "code",
   "execution_count": 39,
   "metadata": {},
   "outputs": [],
   "source": [
    "# vector Name\n",
    "pdr_vector = 'tbDecoded:vector'\n",
    "pdr_dist_vector = 'txRxDistanceTB:vector'\n",
    "\n",
    "csvName = [\n",
    "#     'test-3d9m.csv', \n",
    "#     'test-1bco.csv'\n",
    "#     'test-g474.csv', \n",
    "#     'test-clfv.csv', \n",
    "#     'test-sztm.csv', \n",
    "#     'test-n_zl.csv', \n",
    "#     'test-9m5l.csv'\n",
    "    'test-vaa6.csv',  # Aircomp simepl\n",
    "    'test-ffdl.csv', # CAM simepl\n",
    "    'test-g7ia.csv',  # Aircomp simepl\n",
    "]"
   ]
  },
  {
   "cell_type": "code",
   "execution_count": 40,
   "metadata": {},
   "outputs": [
    {
     "name": "stdout",
     "output_type": "stream",
     "text": [
      "test-vaa6.csv\n",
      "test-ffdl.csv\n",
      "test-g7ia.csv\n"
     ]
    }
   ],
   "source": [
    "\n",
    "#  opp_scavetool export -f '(\"tbDecoded:vector\" OR \"txRxDistanceTB:vector\")' -F CSV-R CAM-0-20221109-09\\:16\\:01-10447.sca CAM-0-20221109-09\\:16\\:01-10447.vec -o test-sztm.csv\n",
    "\n",
    "for x in range(len(csvName)): \n",
    "    print(csvName[x])\n"
   ]
  },
  {
   "cell_type": "code",
   "execution_count": 41,
   "metadata": {},
   "outputs": [
    {
     "name": "stdout",
     "output_type": "stream",
     "text": [
      "test-vaa6.csv\n",
      "test-ffdl.csv\n",
      "test-g7ia.csv\n"
     ]
    }
   ],
   "source": [
    "# ReadFile and extract Data\n",
    "new_df = []\n",
    "for x in range(len(csvName)): \n",
    "    print(csvName[x])\n",
    "    distances = []\n",
    "    decoded = []\n",
    "    df = pd.read_csv(csvName[x], converters = { \n",
    "        'attrvalue': parse_if_number, \n",
    "        'binedges': parse_ndarray, \n",
    "        'binvalues': parse_ndarray, \n",
    "        'vectime': parse_ndarray, \n",
    "        'vecvalue': parse_ndarray\n",
    "    })\n",
    "    distances = df[(df[\"name\"] == pdr_dist_vector) & (df[\"vectime\"].notnull())] \n",
    "    decoded = df[(df[\"name\"] == pdr_vector) & (df[\"vectime\"].notnull())] \n",
    "    distances = distances[[\"module\", \"vecvalue\"]] \n",
    "    distances.rename(columns={\"vecvalue\": \"distance\"}, inplace=True) \n",
    "    decoded   = decoded[[\"module\", \"vecvalue\"]] \n",
    "    decoded.rename(columns={\"vecvalue\": \"decode\"}, inplace=True) \n",
    "    new_df.append(pd.merge(distances, decoded, on='module', how='inner'))"
   ]
  },
  {
   "cell_type": "code",
   "execution_count": 42,
   "metadata": {},
   "outputs": [],
   "source": [
    "# bs = []\n",
    "# for i in range(50): \n",
    "#     bs.append({\"count\": 0, \"success\": 0}) \n",
    "\n",
    "# test1 = new_df[0]\n",
    "# for row in test1.itertuples(): \n",
    "#     print(row)\n",
    "#     for i in range(len(row.distance)): \n",
    "#         if row.distance[i] < 500: \n",
    "#             # Ensures that we have everything in 10m chunks \n",
    "#             remainder = int(row.distance[i] // 10) \n",
    "#             if row.decode >= 0: \n",
    "#                 # Only count TBs sent i.e. -1 will be ignored in result \n",
    "#                 bs[remainder][\"count\"] += 1 \n",
    "#                 bs[remainder][\"success\"] += row.decode[i]\n"
   ]
  },
  {
   "cell_type": "code",
   "execution_count": 43,
   "metadata": {},
   "outputs": [],
   "source": [
    "bins = []\n",
    "tmp = []\n",
    "for i in range(50): \n",
    "    tmp.append({\"count\": 0, \"success\": 0}) \n",
    "for x in range(len(csvName)): \n",
    "    bins.append(tmp)\n",
    "   \n",
    "\n",
    "for x in range(len(csvName)): \n",
    "    for row in new_df[x].itertuples(): \n",
    "        for i in range(len(row.distance)): \n",
    "            if row.distance[i] < 500: \n",
    "                # Ensures that we have everything in 10m chunks \n",
    "                remainder = int(row.distance[i] // 10) \n",
    "                if row.decode[i] >= 0: \n",
    "                    # Only count TBs sent i.e. -1 will be ignored in result \n",
    "                    bins[x][remainder][\"count\"] += 1 \n",
    "                    bins[x][remainder][\"success\"] += row.decode[i]\n"
   ]
  },
  {
   "cell_type": "code",
   "execution_count": 44,
   "metadata": {},
   "outputs": [],
   "source": [
    "pdrs = [] \n",
    "distances = [] \n",
    "for x in range(len(csvName)): \n",
    "    p = []\n",
    "    d = []\n",
    "    distance = 0\n",
    "    for dictionary in bins[x]: \n",
    "        if dictionary[\"count\"] == 0:\n",
    "            p.append(0) \n",
    "        else: \n",
    "            p.append((dictionary[\"success\"] / dictionary[\"count\"] * 100)) \n",
    "        d.append(distance) \n",
    "        distance += 10\n",
    "    pdrs.append(p)\n",
    "    distances.append(d)"
   ]
  },
  {
   "cell_type": "code",
   "execution_count": 45,
   "metadata": {
    "scrolled": true
   },
   "outputs": [
    {
     "data": {
      "image/png": "[encoded data removed]",
      "text/plain": [
       "<Figure size 432x288 with 1 Axes>"
      ]
     },
     "metadata": {
      "needs_background": "light"
     },
     "output_type": "display_data"
    },
    {
     "data": {
      "text/plain": [
       "<Figure size 432x288 with 0 Axes>"
      ]
     },
     "metadata": {},
     "output_type": "display_data"
    }
   ],
   "source": [
    "# Plot\n",
    "fig, ax = plt.subplots() \n",
    "\n",
    "for x in range(len(csvName)): \n",
    "    ax.plot(distances[x], pdrs[x], label=\"PDR\"+csvName[x]) \n",
    "    \n",
    "ax.plot(distances[0], pdrs[0], label=\"PDR\"+csvName[0]) \n",
    "ax.plot(distances[1], pdrs[1], label=\"PDR\"+csvName[1]) \n",
    "\n",
    "ax.set(xlabel='Distance (m)', ylabel=\"Packet Delivery Ratio %\") \n",
    "ax.legend(loc=\"lower left\") \n",
    "ax.tick_params(direction='in') \n",
    " \n",
    "# ax.set_xlim([0, (max(distances) + 1)]) \n",
    "ax.set_xlim([0, (np.amax(distances) + 1)]) \n",
    "ax.set_ylim([0, 101]) \n",
    "# plt.xticks(np.arange(0, (max(distances))+50, step=50)) \n",
    "plt.xticks(np.arange(0, (np.amax(distances))+50, step=50)) \n",
    "plt.yticks(np.arange(0, (101), step=10)) \n",
    " \n",
    "plt.show() \n",
    "plt.savefig(\"test.png\", dpi=300) \n",
    "plt.close(fig)"
   ]
  },
  {
   "cell_type": "code",
   "execution_count": null,
   "metadata": {},
   "outputs": [],
   "source": []
  }
 ],
 "metadata": {
  "kernelspec": {
   "display_name": "Python 3",
   "language": "python",
   "name": "python3"
  },
  "language_info": {
   "codemirror_mode": {
    "name": "ipython",
    "version": 3
   },
   "file_extension": ".py",
   "mimetype": "text/x-python",
   "name": "python",
   "nbconvert_exporter": "python",
   "pygments_lexer": "ipython3",
   "version": "3.6.9"
  }
 },
 "nbformat": 4,
 "nbformat_minor": 4
}
