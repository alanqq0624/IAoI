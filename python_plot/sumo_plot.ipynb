{
 "cells": [
  {
   "cell_type": "code",
   "execution_count": 1,
   "metadata": {},
   "outputs": [],
   "source": [
    "from __future__ import absolute_import\n",
    "from __future__ import print_function\n",
    "from collections import defaultdict\n",
    "import os, sys\n",
    "import xml.etree.ElementTree as et\n",
    "import csv\n",
    "\n",
    "import matplotlib\n",
    "if 'matplotlib.backends' not in sys.modules:\n",
    "    if 'TEXTTEST_SANDBOX' in os.environ or (os.name == 'posix' and 'DISPLAY' not in os.environ):\n",
    "        matplotlib.use('Agg')\n",
    "import matplotlib.pyplot as plt  # noqa\n",
    "%matplotlib inline\n",
    "import math  # noqa"
   ]
  },
  {
   "cell_type": "code",
   "execution_count": 2,
   "metadata": {},
   "outputs": [],
   "source": [
    "# import sumolib\n",
    "import os, sys\n",
    "if 'SUMO_HOME' in os.environ:\n",
    "    tools = os.path.join(os.environ['SUMO_HOME'], 'tools')\n",
    "    sys.path.append(tools)\n",
    "else:   \n",
    "    sys.exit(\"please declare environment variable 'SUMO_HOME'\")\n",
    "\n",
    "from sumolib.xml import parse_fast_nested  # noqa\n",
    "from sumolib.miscutils import uMin, uMax, parseTime  # noqa\n",
    "from sumolib.options import ArgumentParser  # noqa"
   ]
  },
  {
   "cell_type": "code",
   "execution_count": 3,
   "metadata": {},
   "outputs": [],
   "source": [
    "# reconstruct this part below\n",
    "def fast_iter(context, func, args=[], kwargs={}):\n",
    "    # http://www.ibm.com/developerworks/xml/library/x-hiperfparse/\n",
    "    # Author: Liza Daly\n",
    "    for event, elem in context:\n",
    "        func(elem, *args, **kwargs)\n",
    "        elem.clear()\n",
    "        while elem.getprevious() is not None:\n",
    "            del elem.getparent()[0]\n",
    "    del context"
   ]
  },
  {
   "cell_type": "code",
   "execution_count": 4,
   "metadata": {},
   "outputs": [],
   "source": [
    "input_file_prefix_list = [\n",
    "#     [\"yi2lppoa\", \"2022-10-03-15-05-50\"], \n",
    "#     [\"6q2jgjtg\", \"2022-10-03-22-08-05\"], \n",
    "#     [\"m2h5qvf8\", \"2022-10-05-23-54-05\"]\n",
    "#     [\"_ecgagh_\", \"2022-10-19-01-29-55\"], \n",
    "#     [\"p3ul46vy\", \"2022-10-20-01-01-02\"], #IAoI\n",
    "#     [\"7xf1om3w\", \"2022-10-20-01-51-50\"], #TAoI\n",
    "#     [\"pw2p7dg8\", \"2022-10-20-06-52-46\"], #Base\n",
    "#     [\"sqeq6qrk\", \"2022-11-01-01-25-18\"], # IAoI simple 1channel\n",
    "#     [\"4pfas5tn\", \"2022-11-01-03-37-29\"], # IAoI simple 1channel\n",
    "#     [\"fiwtj5g7\", \"2022-11-03-06-27-06\"], # IAoI simple 1channel 100sec\n",
    "#     [\"3d9mxyh3\", \"2022-11-03-08-06-25\"], # IAoI simple 1channel 100sec\n",
    "#     [\"1bcov74b\", \"2022-11-03-10-11-06\"] # TAoI simple 1channel 100sec\n",
    "#     [\"n_zlkn16\", \"2022-11-04-22-49-44\"], # IAoI Lust 1channel 100sec\n",
    "#     [\"9m5lvtgh\", \"2022-11-05-22-26-57\"], # TAoI Lust 1channel 100sec\n",
    "#     [\"ts_ihwan\", \"2022-11-07-04-57-40\"], # Base Lust 1channel 100sec\n",
    "#     [\"g4742en5\", \"2022-11-09-06-40-04\"]# IAoI simple 1channel 100sec emission\n",
    "#     [\"sztm_fuq\", \"2022-11-09-09-16-59\"]# TAoI simple 1channel 100sec emission \n",
    "#     [\"nfq560ag\", \"2022-11-10-07-01-50\"]# TAoI simple 1channel 100sec emission \n",
    "#     [\"eh9ibkm0\", \"2022-11-03-14-50-48\"]# Base simple 1channel 100sec emission \n",
    "#     [\"_gi9r0d8\", \"2022-12-18-06-06-45\"]# IAoI Lust 1channel \n",
    "#     [\"8t5y8pdx\", \"2023-01-03-12-03-50\"]# Base Lust 5dur\n",
    "    \n",
    "#     [\"ug7hhnfz\", \"2023-01-04-09-41-58\"],# CAM Lust \n",
    "#     [\"hjpbf27k\", \"2023-01-04-13-56-07\"],# CAM bs Lust \n",
    "#     [\"imrhevk2\", \"2023-01-04-18-52-33\"],# airmcomp Lust \n",
    "#     [\"mph2jt2i\", \"2023-01-05-08-10-56\"],# aircomp sim \n",
    "#     [\"am37tn_r\", \"2023-01-05-10-02-42\"],# CAM bs sim\n",
    "#     [\"ikm56_93\", \"2023-01-05-11-04-25\"],# CAM sim \n",
    "    \n",
    "#     [\"9e3k87sh\", \"2023-02-18-23-03-33\"],# Aircomp LS 0.8\n",
    "#     [\"bf8_kio8\", \"2023-02-20-18-47-50\"],# Aircomp LS 0.4\n",
    "#     [\"4yldpavk\", \"2023-02-20-22-26-59\"],# Aircomp LS 0.2\n",
    "#     [\"4vp3_bw2\", \"2023-02-21-23-36-21\"],# Aircomp LS 0.6\n",
    "    [\"obt34am1\", \"2023-02-23-21-46-14\"],# Aircomp Lust 0.8\n",
    "    [\"8h6x6vwo\", \"2023-02-24-10-30-00\"],# Aircomp Lust 0.4\n",
    "    [\"xojm649z\", \"2023-02-24-16-32-05\"],# Aircomp Lust 0.2\n",
    "    [\"_z39yd0s\", \"2023-02-25-00-52-12\"],# Aircomp Lust 0.6\n",
    "]"
   ]
  },
  {
   "cell_type": "code",
   "execution_count": 5,
   "metadata": {},
   "outputs": [],
   "source": [
    "ssm_file_list = []\n",
    "carType = [\"passenger1\", \"passenger2a\", \"passenger2b\", \"passenger3\",  \"passenger4\",  \"passenger5\",  \"bus\"]\n",
    "# carType = [\"CarA\", \"CarB\", \"CarC\", \"CarD\"]\n",
    "for i in input_file_prefix_list:\n",
    "    path = []\n",
    "    for j in carType:\n",
    "        x = \"./Aircomp/sumo-launchd-tmp-\" + i[0] + \"/\" + i[1] + \"_ssm_\" + j + \".xml\"\n",
    "        path.append(x)\n",
    "    ssm_file_list.append(path)\n",
    "conflicts_list = []\n",
    "globalMeasures_list = []"
   ]
  },
  {
   "cell_type": "code",
   "execution_count": 6,
   "metadata": {},
   "outputs": [
    {
     "name": "stdout",
     "output_type": "stream",
     "text": [
      "[['./Aircomp/sumo-launchd-tmp-obt34am1/2023-02-23-21-46-14_ssm_passenger1.xml', './Aircomp/sumo-launchd-tmp-obt34am1/2023-02-23-21-46-14_ssm_passenger2a.xml', './Aircomp/sumo-launchd-tmp-obt34am1/2023-02-23-21-46-14_ssm_passenger2b.xml', './Aircomp/sumo-launchd-tmp-obt34am1/2023-02-23-21-46-14_ssm_passenger3.xml', './Aircomp/sumo-launchd-tmp-obt34am1/2023-02-23-21-46-14_ssm_passenger4.xml', './Aircomp/sumo-launchd-tmp-obt34am1/2023-02-23-21-46-14_ssm_passenger5.xml', './Aircomp/sumo-launchd-tmp-obt34am1/2023-02-23-21-46-14_ssm_bus.xml'], ['./Aircomp/sumo-launchd-tmp-8h6x6vwo/2023-02-24-10-30-00_ssm_passenger1.xml', './Aircomp/sumo-launchd-tmp-8h6x6vwo/2023-02-24-10-30-00_ssm_passenger2a.xml', './Aircomp/sumo-launchd-tmp-8h6x6vwo/2023-02-24-10-30-00_ssm_passenger2b.xml', './Aircomp/sumo-launchd-tmp-8h6x6vwo/2023-02-24-10-30-00_ssm_passenger3.xml', './Aircomp/sumo-launchd-tmp-8h6x6vwo/2023-02-24-10-30-00_ssm_passenger4.xml', './Aircomp/sumo-launchd-tmp-8h6x6vwo/2023-02-24-10-30-00_ssm_passenger5.xml', './Aircomp/sumo-launchd-tmp-8h6x6vwo/2023-02-24-10-30-00_ssm_bus.xml'], ['./Aircomp/sumo-launchd-tmp-xojm649z/2023-02-24-16-32-05_ssm_passenger1.xml', './Aircomp/sumo-launchd-tmp-xojm649z/2023-02-24-16-32-05_ssm_passenger2a.xml', './Aircomp/sumo-launchd-tmp-xojm649z/2023-02-24-16-32-05_ssm_passenger2b.xml', './Aircomp/sumo-launchd-tmp-xojm649z/2023-02-24-16-32-05_ssm_passenger3.xml', './Aircomp/sumo-launchd-tmp-xojm649z/2023-02-24-16-32-05_ssm_passenger4.xml', './Aircomp/sumo-launchd-tmp-xojm649z/2023-02-24-16-32-05_ssm_passenger5.xml', './Aircomp/sumo-launchd-tmp-xojm649z/2023-02-24-16-32-05_ssm_bus.xml'], ['./Aircomp/sumo-launchd-tmp-_z39yd0s/2023-02-25-00-52-12_ssm_passenger1.xml', './Aircomp/sumo-launchd-tmp-_z39yd0s/2023-02-25-00-52-12_ssm_passenger2a.xml', './Aircomp/sumo-launchd-tmp-_z39yd0s/2023-02-25-00-52-12_ssm_passenger2b.xml', './Aircomp/sumo-launchd-tmp-_z39yd0s/2023-02-25-00-52-12_ssm_passenger3.xml', './Aircomp/sumo-launchd-tmp-_z39yd0s/2023-02-25-00-52-12_ssm_passenger4.xml', './Aircomp/sumo-launchd-tmp-_z39yd0s/2023-02-25-00-52-12_ssm_passenger5.xml', './Aircomp/sumo-launchd-tmp-_z39yd0s/2023-02-25-00-52-12_ssm_bus.xml']]\n"
     ]
    }
   ],
   "source": [
    "print(ssm_file_list)"
   ]
  },
  {
   "cell_type": "code",
   "execution_count": 7,
   "metadata": {},
   "outputs": [],
   "source": [
    "#     x = [\"./Aircomp/sumo-launchd-tmp-\" + i[0] + \"/\" + i[1] + \"_ssm_passenger1.xml\",\n",
    "#          \"./Aircomp/sumo-launchd-tmp-\" + i[0] + \"/\" + i[1] + \"_ssm_passenger2a.xml\", \n",
    "#          \"./Aircomp/sumo-launchd-tmp-\" + i[0] + \"/\" + i[1] + \"_ssm_passenger2b.xml\", \n",
    "#          \"./Aircomp/sumo-launchd-tmp-\" + i[0] + \"/\" + i[1] + \"_ssm_passenger3.xml\", \n",
    "#          \"./Aircomp/sumo-launchd-tmp-\" + i[0] + \"/\" + i[1] + \"_ssm_passenger4.xml\", \n",
    "#          \"./Aircomp/sumo-launchd-tmp-\" + i[0] + \"/\" + i[1] + \"_ssm_passenger5.xml\", \n",
    "#          \"./Aircomp/sumo-launchd-tmp-\" + i[0] + \"/\" + i[1] + \"_ssm_bus.xml\"\n",
    "#     ]\n",
    "#     path = [\"./Aircomp/sumo-launchd-tmp-\" + i[0] + \"/\" + i[1] + \"_ssm_CarA.xml\",\n",
    "#          \"./Aircomp/sumo-launchd-tmp-\" + i[0] + \"/\" + i[1] + \"_ssm_CarB.xml\", \n",
    "#          \"./Aircomp/sumo-launchd-tmp-\" + i[0] + \"/\" + i[1] + \"_ssm_CarC.xml\", \n",
    "#          \"./Aircomp/sumo-launchd-tmp-\" + i[0] + \"/\" + i[1] + \"_ssm_CarD.xml\"\n",
    "#     ]"
   ]
  },
  {
   "cell_type": "code",
   "execution_count": 8,
   "metadata": {
    "scrolled": true
   },
   "outputs": [
    {
     "name": "stdout",
     "output_type": "stream",
     "text": [
      "Current running:  ./Aircomp/sumo-launchd-tmp-obt34am1/2023-02-23-21-46-14_ssm_passenger1.xml\n",
      "Current running:  ./Aircomp/sumo-launchd-tmp-obt34am1/2023-02-23-21-46-14_ssm_passenger2a.xml\n",
      "Current running:  ./Aircomp/sumo-launchd-tmp-obt34am1/2023-02-23-21-46-14_ssm_passenger2b.xml\n",
      "Current running:  ./Aircomp/sumo-launchd-tmp-obt34am1/2023-02-23-21-46-14_ssm_passenger3.xml\n",
      "Current running:  ./Aircomp/sumo-launchd-tmp-obt34am1/2023-02-23-21-46-14_ssm_passenger4.xml\n",
      "Current running:  ./Aircomp/sumo-launchd-tmp-obt34am1/2023-02-23-21-46-14_ssm_passenger5.xml\n",
      "Current running:  ./Aircomp/sumo-launchd-tmp-obt34am1/2023-02-23-21-46-14_ssm_bus.xml\n",
      "    conflicts:  2053 , globalMeasures:  815 .\n",
      "Current running:  ./Aircomp/sumo-launchd-tmp-8h6x6vwo/2023-02-24-10-30-00_ssm_passenger1.xml\n",
      "Current running:  ./Aircomp/sumo-launchd-tmp-8h6x6vwo/2023-02-24-10-30-00_ssm_passenger2a.xml\n",
      "Current running:  ./Aircomp/sumo-launchd-tmp-8h6x6vwo/2023-02-24-10-30-00_ssm_passenger2b.xml\n",
      "Current running:  ./Aircomp/sumo-launchd-tmp-8h6x6vwo/2023-02-24-10-30-00_ssm_passenger3.xml\n",
      "Current running:  ./Aircomp/sumo-launchd-tmp-8h6x6vwo/2023-02-24-10-30-00_ssm_passenger4.xml\n",
      "Current running:  ./Aircomp/sumo-launchd-tmp-8h6x6vwo/2023-02-24-10-30-00_ssm_passenger5.xml\n",
      "Current running:  ./Aircomp/sumo-launchd-tmp-8h6x6vwo/2023-02-24-10-30-00_ssm_bus.xml\n",
      "    conflicts:  2055 , globalMeasures:  815 .\n",
      "Current running:  ./Aircomp/sumo-launchd-tmp-xojm649z/2023-02-24-16-32-05_ssm_passenger1.xml\n",
      "Current running:  ./Aircomp/sumo-launchd-tmp-xojm649z/2023-02-24-16-32-05_ssm_passenger2a.xml\n",
      "Current running:  ./Aircomp/sumo-launchd-tmp-xojm649z/2023-02-24-16-32-05_ssm_passenger2b.xml\n",
      "Current running:  ./Aircomp/sumo-launchd-tmp-xojm649z/2023-02-24-16-32-05_ssm_passenger3.xml\n",
      "Current running:  ./Aircomp/sumo-launchd-tmp-xojm649z/2023-02-24-16-32-05_ssm_passenger4.xml\n",
      "Current running:  ./Aircomp/sumo-launchd-tmp-xojm649z/2023-02-24-16-32-05_ssm_passenger5.xml\n",
      "Current running:  ./Aircomp/sumo-launchd-tmp-xojm649z/2023-02-24-16-32-05_ssm_bus.xml\n",
      "    conflicts:  2051 , globalMeasures:  815 .\n",
      "Current running:  ./Aircomp/sumo-launchd-tmp-_z39yd0s/2023-02-25-00-52-12_ssm_passenger1.xml\n",
      "Current running:  ./Aircomp/sumo-launchd-tmp-_z39yd0s/2023-02-25-00-52-12_ssm_passenger2a.xml\n",
      "Current running:  ./Aircomp/sumo-launchd-tmp-_z39yd0s/2023-02-25-00-52-12_ssm_passenger2b.xml\n",
      "Current running:  ./Aircomp/sumo-launchd-tmp-_z39yd0s/2023-02-25-00-52-12_ssm_passenger3.xml\n",
      "Current running:  ./Aircomp/sumo-launchd-tmp-_z39yd0s/2023-02-25-00-52-12_ssm_passenger4.xml\n",
      "Current running:  ./Aircomp/sumo-launchd-tmp-_z39yd0s/2023-02-25-00-52-12_ssm_passenger5.xml\n",
      "Current running:  ./Aircomp/sumo-launchd-tmp-_z39yd0s/2023-02-25-00-52-12_ssm_bus.xml\n",
      "    conflicts:  2053 , globalMeasures:  815 .\n",
      "Total:  4 ,  4\n"
     ]
    }
   ],
   "source": [
    "# Get SSM collision and globalMeasures data\n",
    "# fast_iter\n",
    "for input_file in ssm_file_list:\n",
    "    conflicts = []\n",
    "    globalMeasures = []\n",
    "    i = 0\n",
    "    for inpu in input_file: \n",
    "        print(\"Current running: \", inpu)\n",
    "        \n",
    "        for event, elem in et.iterparse(inpu, events = (\"end\", )):\n",
    "            if elem.tag == 'conflict':\n",
    "                cs = {'begin': elem.get('begin'), 'end': elem.get('end'), 'ego': elem.get('ego'), 'foe': elem.get('foe'), 'carType': carType[i]}\n",
    "                for child in elem:\n",
    "                    if child.tag == 'minTTC':\n",
    "                        cs['minTTC'] = child.get('value')\n",
    "                        cs['minTTC_time'] = child.get('time')\n",
    "                        cs['minTTC_type'] = child.get('type')\n",
    "                    elif child.tag == 'maxDRAC':\n",
    "                        cs['maxDRAC'] = child.get('value')\n",
    "                        cs['maxDRAC_time'] = child.get('time')\n",
    "                        cs['maxDRAC_type'] = child.get('type')\n",
    "                if 'minTTC' not in cs:\n",
    "                    cs['minTTC'] = \"NA\"\n",
    "                    cs['minTTC_time'] = \"NA\"\n",
    "                    cs['minTTC_type'] = \"NA\"\n",
    "                if 'maxDRAC' not in cs:\n",
    "                    cs['maxDRAC'] = \"NA\"\n",
    "                    cs['maxDRAC_time'] = \"NA\"\n",
    "                    cs['maxDRAC_type'] = \"NA\"\n",
    "                conflicts.append(cs)\n",
    "            if elem.tag == 'globalMeasures':\n",
    "                gm = {'ego': elem.get('ego'), 'carType': carType[i]}\n",
    "                for child in elem:\n",
    "                    if child.tag == 'maxBR':\n",
    "                        gm['maxBR'] = child.get('value')\n",
    "                        gm['maxBR_time'] = child.get('time')\n",
    "                    if child.tag == 'minSGAP':\n",
    "                        gm['minSGAP'] = child.get('value')\n",
    "                        gm['minSGAP_time'] = child.get('time')\n",
    "                        gm['minSGAP_leader'] = child.get('leader')\n",
    "                    if child.tag == 'minTGAP':\n",
    "                        gm['minTGAP'] = child.get('value')\n",
    "                        gm['minTGAP_time'] = child.get('time')\n",
    "                        gm['minTGAP_leader'] = child.get('leader')\n",
    "                if 'maxBR' not in gm: \n",
    "                    gm['maxBR'] = \"NA\"\n",
    "                    gm['maxBR_time'] = \"NA\"\n",
    "                if 'minSGAP' not in gm:  \n",
    "                    gm['minSGAP'] = \"NA\"\n",
    "                    gm['minSGAP_time'] = \"NA\"\n",
    "                    gm['minSGAP_leader'] = \"NA\"\n",
    "                if 'minTGAP' not in gm:  \n",
    "                    gm['minTGAP'] = \"NA\"\n",
    "                    gm['minTGAP_time'] = \"NA\"\n",
    "                    gm['minTGAP_leader'] = \"NA\"\n",
    "                globalMeasures.append(gm)\n",
    "        i = i+1\n",
    "    conflicts_list.append(conflicts)\n",
    "    globalMeasures_list.append(globalMeasures)    \n",
    "    print(\"    conflicts: \", len(conflicts), \", globalMeasures: \", len(globalMeasures), \".\")\n",
    "#         while elem.getprevious() is not None:\n",
    "#             del elem.getparent()[0]\n",
    "\n",
    "print(\"Total: \", len(conflicts_list), \", \", len(globalMeasures_list))"
   ]
  },
  {
   "cell_type": "code",
   "execution_count": null,
   "metadata": {},
   "outputs": [],
   "source": []
  },
  {
   "cell_type": "code",
   "execution_count": 9,
   "metadata": {},
   "outputs": [
    {
     "name": "stdout",
     "output_type": "stream",
     "text": [
      "Write file:  ssm-conflicts-obt34am1.csv\n",
      "    Write line:  2053\n",
      "Write file:  ssm-globalMeasures-obt34am1.csv\n",
      "    Write line:  815\n",
      "Write file:  ssm-conflicts-8h6x6vwo.csv\n",
      "    Write line:  2055\n",
      "Write file:  ssm-globalMeasures-8h6x6vwo.csv\n",
      "    Write line:  815\n",
      "Write file:  ssm-conflicts-xojm649z.csv\n",
      "    Write line:  2051\n",
      "Write file:  ssm-globalMeasures-xojm649z.csv\n",
      "    Write line:  815\n",
      "Write file:  ssm-conflicts-_z39yd0s.csv\n",
      "    Write line:  2053\n",
      "Write file:  ssm-globalMeasures-_z39yd0s.csv\n",
      "    Write line:  815\n"
     ]
    }
   ],
   "source": [
    "# output data to csv file\n",
    "a = 0\n",
    "for inpu in input_file_prefix_list:\n",
    "    \n",
    "    print(\"Write file: \",\"ssm-conflicts-\" + inpu[0] + \".csv\")\n",
    "    csvfile = open(\"ssm-conflicts-\" + inpu[0] + \".csv\",\"w\",newline='')\n",
    "    data_csv = csv.writer(csvfile)\n",
    "    data_csv.writerow([\n",
    "        \"begin\", \"end\", \"ego\", \"foe\", \"carType\", \n",
    "        \"minTTC\", \"minTTC_time\", \"minTTC_type\", \n",
    "        \"maxDRAC\", \"maxDRAC_time\", \"maxDRAC_type\"\n",
    "    ])\n",
    "    for i in range(0,len(conflicts_list[a])):\n",
    "        data_csv.writerow([\n",
    "            conflicts_list[a][i]['begin'], conflicts_list[a][i]['end'], conflicts_list[a][i]['ego'], conflicts_list[a][i]['foe'], conflicts_list[a][i]['carType'], \n",
    "            conflicts_list[a][i]['minTTC'], conflicts_list[a][i]['minTTC_time'], conflicts_list[a][i]['minTTC_type'], \n",
    "            conflicts_list[a][i]['maxDRAC'], conflicts_list[a][i]['maxDRAC_time'], conflicts_list[a][i]['maxDRAC_type']\n",
    "        ])\n",
    "    print(\"    Write line: \", len(conflicts_list[a]))\n",
    "    csvfile.close()\n",
    "    print(\"Write file: \",\"ssm-globalMeasures-\" + inpu[0] + \".csv\")\n",
    "    csvfile_2 = open(\"ssm-globalMeasures-\" + inpu[0] + \".csv\",\"w\",newline='')\n",
    "    data_csv_2 = csv.writer(csvfile_2)\n",
    "    data_csv_2.writerow([\n",
    "        \"ego\", \"carType\", \n",
    "        \"maxBR\", \"maxBR_time\", \n",
    "        \"minSGAP\", \"minSGAP_time\", \"minSGAP_leader\", \n",
    "        \"minTGAP\", \"minTGAP_time\", \"minTGAP_leader\"\n",
    "    ])\n",
    "    for i in range(0,len(globalMeasures_list[a])):\n",
    "        data_csv_2.writerow([\n",
    "            globalMeasures_list[a][i]['ego'], globalMeasures_list[a][i]['carType'], \n",
    "            globalMeasures_list[a][i]['maxBR'], globalMeasures_list[a][i]['maxBR_time'], \n",
    "            globalMeasures_list[a][i]['minSGAP'], globalMeasures_list[a][i]['minSGAP_time'], globalMeasures_list[a][i]['minSGAP_leader'],\n",
    "            globalMeasures_list[a][i]['minTGAP'], globalMeasures_list[a][i]['minTGAP_time'], globalMeasures_list[a][i]['minTGAP_leader'] \n",
    "        ])\n",
    "    print(\"    Write line: \", len(globalMeasures_list[a]))\n",
    "    csvfile_2.close()\n",
    "    a = a + 1"
   ]
  },
  {
   "cell_type": "code",
   "execution_count": null,
   "metadata": {},
   "outputs": [],
   "source": []
  },
  {
   "cell_type": "code",
   "execution_count": 10,
   "metadata": {},
   "outputs": [
    {
     "name": "stdout",
     "output_type": "stream",
     "text": [
      "['t', 's']\n"
     ]
    }
   ],
   "source": [
    "#  option\n",
    "plot_ttype = []\n",
    "plot_ttype.append('t')\n",
    "plot_ttype.append('s')\n",
    "print(plot_ttype)"
   ]
  },
  {
   "cell_type": "code",
   "execution_count": 11,
   "metadata": {},
   "outputs": [],
   "source": [
    "# init ttype KEY\n",
    "KEYS = {\n",
    "    't': 'Time',\n",
    "    's': 'Speed',\n",
    "    'd': 'Distance',\n",
    "    'a': 'Acceleration',\n",
    "    'i': 'Angle',\n",
    "    'x': 'x-Position',\n",
    "    'y': 'y-Position',\n",
    "    'k': 'kilometrage',\n",
    "    'g': 'gap',\n",
    "}"
   ]
  },
  {
   "cell_type": "code",
   "execution_count": 12,
   "metadata": {},
   "outputs": [],
   "source": [
    "def onpick(event):\n",
    "    mevent = event.mouseevent\n",
    "    print(\"veh=%s x=%d y=%d\" % (event.label, mevent.xdata, mevent.ydata))"
   ]
  },
  {
   "cell_type": "code",
   "execution_count": 13,
   "metadata": {
    "scrolled": true
   },
   "outputs": [
    {
     "data": {
      "text/plain": [
       "5"
      ]
     },
     "execution_count": 13,
     "metadata": {},
     "output_type": "execute_result"
    },
    {
     "data": {
      "text/plain": [
       "<Figure size 1400x900 with 0 Axes>"
      ]
     },
     "metadata": {},
     "output_type": "display_data"
    }
   ],
   "source": [
    "fig = plt.figure(figsize=(14, 9), dpi=100)\n",
    "fig.canvas.mpl_connect('pick_event', onpick)"
   ]
  },
  {
   "cell_type": "code",
   "execution_count": 14,
   "metadata": {},
   "outputs": [],
   "source": [
    "ave_ttc = 0\n",
    "ave_drac = 0\n",
    "for i in range(0,len(conflicts)):\n",
    "    if conflicts[i]['minTTC'] == 'NA':\n",
    "        ave_ttc += 0\n",
    "    else: \n",
    "        ave_ttc += float(conflicts[i]['minTTC'])\n",
    "    if conflicts[i]['maxDRAC'] == 'NA':\n",
    "        ave_drac += 0\n",
    "    else:\n",
    "        ave_drac += float(conflicts[i]['maxDRAC'])\n",
    "ave_ttc /= len(conflicts)\n",
    "ave_drac /= len(conflicts)"
   ]
  },
  {
   "cell_type": "code",
   "execution_count": 15,
   "metadata": {},
   "outputs": [
    {
     "name": "stdout",
     "output_type": "stream",
     "text": [
      "1.6205884072089598 ,  48.3462956648806\n"
     ]
    }
   ],
   "source": [
    "print(ave_ttc, \", \", ave_drac)"
   ]
  },
  {
   "cell_type": "code",
   "execution_count": 16,
   "metadata": {},
   "outputs": [],
   "source": [
    "# xdata = None\n",
    "# ydata = None\n",
    "# xdata = plot_ttype[0]\n",
    "# ydata = plot_ttype[1]\n",
    "# if (len(plot_ttype) == 2 and xdata in KEYS and ydata in KEYS):\n",
    "#     xLabel = [KEYS[xdata]]\n",
    "#     yLabel = KEYS[ydata]\n",
    "#     plt.xlabel(xLabel)\n",
    "#     plt.ylabel(yLabel)\n",
    "#     plt.title('Title')\n",
    "# else:\n",
    "#     sys.exit(\"unsupported plot type '%s'\" % plot_ttype)"
   ]
  },
  {
   "cell_type": "code",
   "execution_count": 17,
   "metadata": {},
   "outputs": [],
   "source": [
    "element = 'vehicle'\n",
    "location = 'lane'\n",
    "# if options.persons:\n",
    "#     element = 'person'\n",
    "#     location = 'edge'"
   ]
  },
  {
   "cell_type": "code",
   "execution_count": 18,
   "metadata": {
    "scrolled": true
   },
   "outputs": [
    {
     "data": {
      "image/png": "[encoded data removed]",
      "text/plain": [
       "<Figure size 936x360 with 1 Axes>"
      ]
     },
     "metadata": {
      "needs_background": "light"
     },
     "output_type": "display_data"
    }
   ],
   "source": [
    "plt.figure(figsize=(13, 5))\n",
    "plt.subplot(241)\n",
    "plt.rcParams['savefig.dpi'] = 100 \n",
    "plt.rcParams['figure.dpi'] = 100 \n",
    "plt.rcParams.update({'font.size': 10})\n",
    "width = 0.25\n",
    "xLabel = [\"minTTC\", \"maxDRAC\"]\n",
    "\n",
    "plt.bar([\"ave_ttc\", \"ave_drac\"], [ave_ttc, ave_drac])\n",
    "plt.xlabel('Parameter')\n",
    "plt.ylabel('Value')\n",
    "plt.show()\n"
   ]
  },
  {
   "cell_type": "code",
   "execution_count": null,
   "metadata": {},
   "outputs": [],
   "source": []
  }
 ],
 "metadata": {
  "kernelspec": {
   "display_name": "Python 3",
   "language": "python",
   "name": "python3"
  },
  "language_info": {
   "codemirror_mode": {
    "name": "ipython",
    "version": 3
   },
   "file_extension": ".py",
   "mimetype": "text/x-python",
   "name": "python",
   "nbconvert_exporter": "python",
   "pygments_lexer": "ipython3",
   "version": "3.6.9"
  },
  "vscode": {
   "interpreter": {
    "hash": "ba653dc2693345d2cff79e3342db8c9c922b0e9a3f4ee7f768c09efa38505e3a"
   }
  }
 },
 "nbformat": 4,
 "nbformat_minor": 4
}
