{
 "cells": [
  {
   "cell_type": "code",
   "execution_count": 68,
   "metadata": {},
   "outputs": [],
   "source": [
    "from __future__ import absolute_import\n",
    "from __future__ import print_function\n",
    "from collections import defaultdict\n",
    "import os, sys\n",
    "import xml.etree.ElementTree as et\n",
    "from xml.dom import minidom\n",
    "\n",
    "import math  # noqa"
   ]
  },
  {
   "cell_type": "code",
   "execution_count": null,
   "metadata": {},
   "outputs": [],
   "source": [
    "\n"
   ]
  },
  {
   "cell_type": "code",
   "execution_count": 69,
   "metadata": {},
   "outputs": [],
   "source": [
    "vehType = [\"CarA\", \"CarB\", \"CarC\", \"CarD\"]"
   ]
  },
  {
   "cell_type": "code",
   "execution_count": 70,
   "metadata": {},
   "outputs": [],
   "source": [
    "# parameter\n",
    "end_time = 900\n",
    "interval = 30\n",
    "numVehicle = 96"
   ]
  },
  {
   "cell_type": "code",
   "execution_count": 71,
   "metadata": {},
   "outputs": [],
   "source": [
    "routes = et.Element(\"routes\")\n",
    "for i in range(0, end_time, interval):\n",
    "    for j in range(0, numVehicle):\n",
    "        v = et.SubElement(routes, \"vehicle\", \n",
    "                          depart = \"%d\" % i, \n",
    "                          id = \"%d-veh%d\" % (i, j), \n",
    "                          route = \"route%02d\" % (j % 12 + 1), \n",
    "                          type = vehType[math.floor(j / 12) % 4]\n",
    "        )\n",
    "        if j % 12 == 0: \n",
    "                v.set(\"color\", \"1,0,0\")\n",
    "        "
   ]
  },
  {
   "cell_type": "code",
   "execution_count": 72,
   "metadata": {},
   "outputs": [],
   "source": [
    "# insert to file\n",
    "tree = et.ElementTree(routes)\n",
    "rough_string = et.tostring(routes, 'utf-8')\n",
    "reparsed = minidom.parseString(rough_string)\n",
    "pretty_output = reparsed.toprettyxml(indent=\"  \")\n",
    "\n",
    "output_file = open(\"output.rou.xml\", \"w\")\n",
    "output_file.write(pretty_output)\n",
    "output_file.close()\n",
    "# tree.write(\"output.rou.xml\")"
   ]
  },
  {
   "cell_type": "code",
   "execution_count": null,
   "metadata": {},
   "outputs": [],
   "source": []
  }
 ],
 "metadata": {
  "kernelspec": {
   "display_name": "Python 3",
   "language": "python",
   "name": "python3"
  },
  "language_info": {
   "codemirror_mode": {
    "name": "ipython",
    "version": 3
   },
   "file_extension": ".py",
   "mimetype": "text/x-python",
   "name": "python",
   "nbconvert_exporter": "python",
   "pygments_lexer": "ipython3",
   "version": "3.6.9"
  }
 },
 "nbformat": 4,
 "nbformat_minor": 4
}
